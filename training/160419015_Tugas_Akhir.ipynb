{
  "cells": [
    {
      "cell_type": "markdown",
      "metadata": {
        "id": "8JkzfKdj0eS0"
      },
      "source": [
        "TODO LIST 17 OKT 2022\n",
        "- NYOBA PAKE ACT FUNC NYA SOFTMAX, TRS CR TAU CARANYA NGESHOW PRESENTASE TIAP NEURON NYA (KLO DISINI ADA 6 NEURON ALIAS 6 LABEL OUTPUT)\n",
        "- LOSS FUNC NYA COBA PAKE MAE BIAR KELIATAN RIL NYA BEDA BERAPA DARI DATA ASLI DENGAN HASIL PREDIKSI\n",
        "- COBA BIKIN 3 SKENARIO; PAKE DATA YG NO KINCIR&BUSA SAJA; PAKE DATA YG ADA KINCIR&BUSA SAJA; PAKE DATA CAMPURAN (EMANG HARUS DI FILTER SATU2 MANUAL GAMBAR NYA)\n",
        "- GAMBAR NYA GPP DI RESIZE SEKECIL MNGKN DIMENSION NYA KRN AKHIRNYA AKAN DI RESIZE JG JDI LETS SAY 224X224X3\n",
        "- ALTERNATIF -> OUTPUT RELU DR MOBILENET DIPAKSA JADI 100% PAKE SOFTMAX"
      ]
    },
    {
      "cell_type": "markdown",
      "metadata": {
        "id": "rby7zYU4v2aj"
      },
      "source": [
        "IMPORT LIBRARY & MOUNT DRIVE"
      ]
    },
    {
      "cell_type": "code",
      "execution_count": null,
      "metadata": {
        "id": "5Opjqkw9hUxn"
      },
      "outputs": [],
      "source": [
        "import tensorflow as tf\n",
        "from tensorflow.keras.callbacks import EarlyStopping\n",
        "import keras\n",
        "from keras.models import Sequential\n",
        "from keras.layers import Dense, Dropout, Flatten\n",
        "from keras.layers import Conv2D, MaxPooling2D\n",
        "from keras.utils import to_categorical, load_img, img_to_array\n",
        "import numpy as np\n",
        "import pandas as pd\n",
        "import matplotlib.pyplot as plt\n",
        "from sklearn.model_selection import train_test_split\n",
        "from tqdm import tqdm\n",
        "import pickle\n",
        "from scipy.special import softmax\n",
        "%matplotlib inline"
      ]
    },
    {
      "cell_type": "code",
      "execution_count": null,
      "metadata": {
        "colab": {
          "base_uri": "https://localhost:8080/"
        },
        "id": "6gZAgpUw2EN1",
        "outputId": "9beb060e-3e16-40ac-b27e-18ebbc7e9397"
      },
      "outputs": [
        {
          "name": "stdout",
          "output_type": "stream",
          "text": [
            "Found GPU at: /device:GPU:0\n"
          ]
        }
      ],
      "source": [
        "try:\n",
        "  device_name = tf.test.gpu_device_name()\n",
        "  if device_name == '/device:GPU:0':\n",
        "    print('Found GPU at: {}'.format(device_name))\n",
        "except:\n",
        "  print('GPU device not found')"
      ]
    },
    {
      "cell_type": "code",
      "execution_count": null,
      "metadata": {
        "id": "RhHuzvRXMJGa"
      },
      "outputs": [],
      "source": [
        "# Load dataset from Google Drive\n",
        "# from google.colab import drive\n",
        "# drive.mount('/content/drive')"
      ]
    },
    {
      "cell_type": "markdown",
      "metadata": {
        "id": "No2tta93v1wn"
      },
      "source": [
        "LOAD & PRE-PROCESS DATASET"
      ]
    },
    {
      "cell_type": "code",
      "execution_count": null,
      "metadata": {
        "colab": {
          "base_uri": "https://localhost:8080/",
          "height": 206
        },
        "id": "hDgEyinAmzqO",
        "outputId": "369f9835-9f3e-4566-e8d3-8492a4600fde"
      },
      "outputs": [
        {
          "data": {
            "text/html": [
              "\n",
              "  <div id=\"df-000f5c64-be79-4bf5-b1ad-ad207e48a49b\">\n",
              "    <div class=\"colab-df-container\">\n",
              "      <div>\n",
              "<style scoped>\n",
              "    .dataframe tbody tr th:only-of-type {\n",
              "        vertical-align: middle;\n",
              "    }\n",
              "\n",
              "    .dataframe tbody tr th {\n",
              "        vertical-align: top;\n",
              "    }\n",
              "\n",
              "    .dataframe thead th {\n",
              "        text-align: right;\n",
              "    }\n",
              "</style>\n",
              "<table border=\"1\" class=\"dataframe\">\n",
              "  <thead>\n",
              "    <tr style=\"text-align: right;\">\n",
              "      <th></th>\n",
              "      <th>Id</th>\n",
              "      <th>Green Algae</th>\n",
              "      <th>Blue Green Algae</th>\n",
              "      <th>Chrysophyta</th>\n",
              "      <th>Euglenophyta</th>\n",
              "      <th>Dinoflagellata</th>\n",
              "      <th>Protozoa</th>\n",
              "    </tr>\n",
              "  </thead>\n",
              "  <tbody>\n",
              "    <tr>\n",
              "      <th>0</th>\n",
              "      <td>1.JPG</td>\n",
              "      <td>98.4</td>\n",
              "      <td>0.4</td>\n",
              "      <td>0.8</td>\n",
              "      <td>0</td>\n",
              "      <td>0.4</td>\n",
              "      <td>0</td>\n",
              "    </tr>\n",
              "    <tr>\n",
              "      <th>1</th>\n",
              "      <td>2.JPG</td>\n",
              "      <td>98.4</td>\n",
              "      <td>0.4</td>\n",
              "      <td>0.8</td>\n",
              "      <td>0</td>\n",
              "      <td>0.4</td>\n",
              "      <td>0</td>\n",
              "    </tr>\n",
              "    <tr>\n",
              "      <th>2</th>\n",
              "      <td>3.JPG</td>\n",
              "      <td>98.4</td>\n",
              "      <td>0.4</td>\n",
              "      <td>0.8</td>\n",
              "      <td>0</td>\n",
              "      <td>0.4</td>\n",
              "      <td>0</td>\n",
              "    </tr>\n",
              "    <tr>\n",
              "      <th>3</th>\n",
              "      <td>4.JPG</td>\n",
              "      <td>98.4</td>\n",
              "      <td>0.4</td>\n",
              "      <td>0.8</td>\n",
              "      <td>0</td>\n",
              "      <td>0.4</td>\n",
              "      <td>0</td>\n",
              "    </tr>\n",
              "    <tr>\n",
              "      <th>4</th>\n",
              "      <td>5.JPG</td>\n",
              "      <td>98.4</td>\n",
              "      <td>0.4</td>\n",
              "      <td>0.8</td>\n",
              "      <td>0</td>\n",
              "      <td>0.4</td>\n",
              "      <td>0</td>\n",
              "    </tr>\n",
              "  </tbody>\n",
              "</table>\n",
              "</div>\n",
              "      <button class=\"colab-df-convert\" onclick=\"convertToInteractive('df-000f5c64-be79-4bf5-b1ad-ad207e48a49b')\"\n",
              "              title=\"Convert this dataframe to an interactive table.\"\n",
              "              style=\"display:none;\">\n",
              "        \n",
              "  <svg xmlns=\"http://www.w3.org/2000/svg\" height=\"24px\"viewBox=\"0 0 24 24\"\n",
              "       width=\"24px\">\n",
              "    <path d=\"M0 0h24v24H0V0z\" fill=\"none\"/>\n",
              "    <path d=\"M18.56 5.44l.94 2.06.94-2.06 2.06-.94-2.06-.94-.94-2.06-.94 2.06-2.06.94zm-11 1L8.5 8.5l.94-2.06 2.06-.94-2.06-.94L8.5 2.5l-.94 2.06-2.06.94zm10 10l.94 2.06.94-2.06 2.06-.94-2.06-.94-.94-2.06-.94 2.06-2.06.94z\"/><path d=\"M17.41 7.96l-1.37-1.37c-.4-.4-.92-.59-1.43-.59-.52 0-1.04.2-1.43.59L10.3 9.45l-7.72 7.72c-.78.78-.78 2.05 0 2.83L4 21.41c.39.39.9.59 1.41.59.51 0 1.02-.2 1.41-.59l7.78-7.78 2.81-2.81c.8-.78.8-2.07 0-2.86zM5.41 20L4 18.59l7.72-7.72 1.47 1.35L5.41 20z\"/>\n",
              "  </svg>\n",
              "      </button>\n",
              "      \n",
              "  <style>\n",
              "    .colab-df-container {\n",
              "      display:flex;\n",
              "      flex-wrap:wrap;\n",
              "      gap: 12px;\n",
              "    }\n",
              "\n",
              "    .colab-df-convert {\n",
              "      background-color: #E8F0FE;\n",
              "      border: none;\n",
              "      border-radius: 50%;\n",
              "      cursor: pointer;\n",
              "      display: none;\n",
              "      fill: #1967D2;\n",
              "      height: 32px;\n",
              "      padding: 0 0 0 0;\n",
              "      width: 32px;\n",
              "    }\n",
              "\n",
              "    .colab-df-convert:hover {\n",
              "      background-color: #E2EBFA;\n",
              "      box-shadow: 0px 1px 2px rgba(60, 64, 67, 0.3), 0px 1px 3px 1px rgba(60, 64, 67, 0.15);\n",
              "      fill: #174EA6;\n",
              "    }\n",
              "\n",
              "    [theme=dark] .colab-df-convert {\n",
              "      background-color: #3B4455;\n",
              "      fill: #D2E3FC;\n",
              "    }\n",
              "\n",
              "    [theme=dark] .colab-df-convert:hover {\n",
              "      background-color: #434B5C;\n",
              "      box-shadow: 0px 1px 3px 1px rgba(0, 0, 0, 0.15);\n",
              "      filter: drop-shadow(0px 1px 2px rgba(0, 0, 0, 0.3));\n",
              "      fill: #FFFFFF;\n",
              "    }\n",
              "  </style>\n",
              "\n",
              "      <script>\n",
              "        const buttonEl =\n",
              "          document.querySelector('#df-000f5c64-be79-4bf5-b1ad-ad207e48a49b button.colab-df-convert');\n",
              "        buttonEl.style.display =\n",
              "          google.colab.kernel.accessAllowed ? 'block' : 'none';\n",
              "\n",
              "        async function convertToInteractive(key) {\n",
              "          const element = document.querySelector('#df-000f5c64-be79-4bf5-b1ad-ad207e48a49b');\n",
              "          const dataTable =\n",
              "            await google.colab.kernel.invokeFunction('convertToInteractive',\n",
              "                                                     [key], {});\n",
              "          if (!dataTable) return;\n",
              "\n",
              "          const docLinkHtml = 'Like what you see? Visit the ' +\n",
              "            '<a target=\"_blank\" href=https://colab.research.google.com/notebooks/data_table.ipynb>data table notebook</a>'\n",
              "            + ' to learn more about interactive tables.';\n",
              "          element.innerHTML = '';\n",
              "          dataTable['output_type'] = 'display_data';\n",
              "          await google.colab.output.renderOutput(dataTable, element);\n",
              "          const docLink = document.createElement('div');\n",
              "          docLink.innerHTML = docLinkHtml;\n",
              "          element.appendChild(docLink);\n",
              "        }\n",
              "      </script>\n",
              "    </div>\n",
              "  </div>\n",
              "  "
            ],
            "text/plain": [
              "      Id  Green Algae  Blue Green Algae  Chrysophyta  Euglenophyta  \\\n",
              "0  1.JPG         98.4               0.4          0.8             0   \n",
              "1  2.JPG         98.4               0.4          0.8             0   \n",
              "2  3.JPG         98.4               0.4          0.8             0   \n",
              "3  4.JPG         98.4               0.4          0.8             0   \n",
              "4  5.JPG         98.4               0.4          0.8             0   \n",
              "\n",
              "   Dinoflagellata  Protozoa  \n",
              "0             0.4         0  \n",
              "1             0.4         0  \n",
              "2             0.4         0  \n",
              "3             0.4         0  \n",
              "4             0.4         0  "
            ]
          },
          "execution_count": 3,
          "metadata": {},
          "output_type": "execute_result"
        }
      ],
      "source": [
        "train = pd.read_csv('/content/drive/MyDrive/Colab Notebooks/TUGAS AKHIR/LABEL_DATASET.csv')    # reading the csv file\n",
        "train.head()      # printing first five rows of the file"
      ]
    },
    {
      "cell_type": "code",
      "execution_count": null,
      "metadata": {
        "colab": {
          "base_uri": "https://localhost:8080/"
        },
        "id": "q3GotBqfMGHL",
        "outputId": "5b3e9986-0f06-40e7-b8f7-7514fbd813d5"
      },
      "outputs": [
        {
          "name": "stderr",
          "output_type": "stream",
          "text": [
            "100%|██████████| 2394/2394 [29:41<00:00,  1.34it/s]\n"
          ]
        }
      ],
      "source": [
        "train_image = []\n",
        "for i in tqdm(range(train.shape[0])):\n",
        "    img = load_img('/content/drive/MyDrive/Colab Notebooks/TUGAS AKHIR/DATASET/DATASET_TUGAS_AKHIR/'+train['Id'][i],\n",
        "                   target_size=(160,160,3))\n",
        "    img = img_to_array(img)\n",
        "    img = img/255\n",
        "    train_image.append(img)\n",
        "X = np.array(train_image)\n",
        "\n",
        "# np.save(\"TRAIN_IMAGE_ARRAY.pkl\", X)\n",
        "\n",
        "# with open('TRAIN_IMAGE.pkl', 'wb') as f:\n",
        "#   pickle.dump(X, f)"
      ]
    },
    {
      "cell_type": "code",
      "execution_count": null,
      "metadata": {
        "colab": {
          "base_uri": "https://localhost:8080/",
          "height": 286
        },
        "id": "20KF1L0uMvY8",
        "outputId": "351b05d6-b2b7-4eff-ef89-f0b8e9b6b7f9"
      },
      "outputs": [
        {
          "data": {
            "text/plain": [
              "<matplotlib.image.AxesImage at 0x7f5700283110>"
            ]
          },
          "execution_count": 6,
          "metadata": {},
          "output_type": "execute_result"
        },
        {
          "data": {
            "image/png": "[encoded data removed]",
            "text/plain": [
              "<Figure size 432x288 with 1 Axes>"
            ]
          },
          "metadata": {
            "needs_background": "light"
          },
          "output_type": "display_data"
        }
      ],
      "source": [
        "plt.imshow(X[2390])"
      ]
    },
    {
      "cell_type": "code",
      "execution_count": null,
      "metadata": {
        "colab": {
          "base_uri": "https://localhost:8080/"
        },
        "id": "xiv1fBt2MxeH",
        "outputId": "644eb1a4-0774-4206-d359-ff27671cdc37"
      },
      "outputs": [
        {
          "data": {
            "text/plain": [
              "61.9"
            ]
          },
          "execution_count": 9,
          "metadata": {},
          "output_type": "execute_result"
        }
      ],
      "source": [
        "train['Green Algae'][2390]"
      ]
    },
    {
      "cell_type": "code",
      "execution_count": null,
      "metadata": {
        "colab": {
          "base_uri": "https://localhost:8080/"
        },
        "id": "QpTaAAKuM6hW",
        "outputId": "3c9f1efb-2090-4e9a-d4c6-cc58253e7288"
      },
      "outputs": [
        {
          "data": {
            "text/plain": [
              "(2394, 6)"
            ]
          },
          "execution_count": 8,
          "metadata": {},
          "output_type": "execute_result"
        }
      ],
      "source": [
        "y = np.array(train.drop(['Id'],axis=1))\n",
        "y.shape"
      ]
    },
    {
      "cell_type": "code",
      "execution_count": null,
      "metadata": {
        "id": "53yMo0EPNJIA"
      },
      "outputs": [],
      "source": [
        "X_train, X_test, y_train, y_test = train_test_split(X, y, random_state=42, test_size=0.2)"
      ]
    },
    {
      "cell_type": "code",
      "execution_count": null,
      "metadata": {
        "colab": {
          "base_uri": "https://localhost:8080/"
        },
        "id": "_TZZDZvL_S2_",
        "outputId": "1cb5a6b6-6eeb-4607-eef2-f5c627f7c92c"
      },
      "outputs": [
        {
          "name": "stdout",
          "output_type": "stream",
          "text": [
            "(1915, 160, 160, 3) (479, 160, 160, 3) (1915, 6) (479, 6)\n"
          ]
        }
      ],
      "source": [
        "print(X_train.shape, X_test.shape, y_train.shape, y_test.shape)"
      ]
    },
    {
      "cell_type": "markdown",
      "metadata": {
        "id": "PxjxsISZm6Z9"
      },
      "source": [
        "MODEL (RAW CNN)"
      ]
    },
    {
      "cell_type": "code",
      "execution_count": null,
      "metadata": {
        "id": "HgduTZMTNPPv"
      },
      "outputs": [],
      "source": [
        "model = Sequential()\n",
        "model.add(Conv2D(filters=16, kernel_size=(5, 5), activation=\"relu\", input_shape=(160,160,3)))\n",
        "model.add(MaxPooling2D(pool_size=(2, 2)))\n",
        "model.add(Dropout(0.25))\n",
        "model.add(Conv2D(filters=32, kernel_size=(5, 5), activation='relu'))\n",
        "model.add(MaxPooling2D(pool_size=(2, 2)))\n",
        "model.add(Dropout(0.25))\n",
        "model.add(Conv2D(filters=64, kernel_size=(5, 5), activation=\"relu\"))\n",
        "model.add(MaxPooling2D(pool_size=(2, 2)))\n",
        "model.add(Dropout(0.25))\n",
        "model.add(Conv2D(filters=64, kernel_size=(5, 5), activation='relu'))\n",
        "model.add(MaxPooling2D(pool_size=(2, 2)))\n",
        "model.add(Dropout(0.25))\n",
        "model.add(Flatten())\n",
        "model.add(Dense(128, activation='relu'))\n",
        "model.add(Dropout(0.5))\n",
        "model.add(Dense(64, activation='relu'))\n",
        "model.add(Dropout(0.5))\n",
        "model.add(Dense(6, activation='softmax'))"
      ]
    },
    {
      "cell_type": "code",
      "execution_count": null,
      "metadata": {
        "id": "d-FaO1S4NT-2"
      },
      "outputs": [],
      "source": [
        "model.summary()"
      ]
    },
    {
      "cell_type": "code",
      "execution_count": null,
      "metadata": {
        "colab": {
          "base_uri": "https://localhost:8080/",
          "height": 165
        },
        "id": "xwkLqaXsNWfV",
        "outputId": "8db6b63f-03d5-4c56-f600-88b4b6bd1ae8"
      },
      "outputs": [
        {
          "ename": "NameError",
          "evalue": "ignored",
          "output_type": "error",
          "traceback": [
            "\u001b[0;31m---------------------------------------------------------------------------\u001b[0m",
            "\u001b[0;31mNameError\u001b[0m                                 Traceback (most recent call last)",
            "\u001b[0;32m<ipython-input-7-0a97f013de18>\u001b[0m in \u001b[0;36m<module>\u001b[0;34m\u001b[0m\n\u001b[0;32m----> 1\u001b[0;31m \u001b[0mmodel\u001b[0m\u001b[0;34m.\u001b[0m\u001b[0mcompile\u001b[0m\u001b[0;34m(\u001b[0m\u001b[0moptimizer\u001b[0m\u001b[0;34m=\u001b[0m\u001b[0;34m'adam'\u001b[0m\u001b[0;34m,\u001b[0m \u001b[0mloss\u001b[0m\u001b[0;34m=\u001b[0m\u001b[0;34m'mean_absolute_error'\u001b[0m\u001b[0;34m,\u001b[0m \u001b[0mmetrics\u001b[0m\u001b[0;34m=\u001b[0m\u001b[0;34m[\u001b[0m\u001b[0;34m'mean_absolute_error'\u001b[0m\u001b[0;34m]\u001b[0m\u001b[0;34m)\u001b[0m\u001b[0;34m\u001b[0m\u001b[0;34m\u001b[0m\u001b[0m\n\u001b[0m",
            "\u001b[0;31mNameError\u001b[0m: name 'model' is not defined"
          ]
        }
      ],
      "source": [
        "model.compile(optimizer='adam', loss='mean_absolute_error', metrics=['mean_absolute_error'])"
      ]
    },
    {
      "cell_type": "code",
      "execution_count": null,
      "metadata": {
        "colab": {
          "base_uri": "https://localhost:8080/"
        },
        "id": "NShWH28TNYez",
        "outputId": "76712d17-d3b8-4caa-8272-0a6243553594"
      },
      "outputs": [
        {
          "name": "stdout",
          "output_type": "stream",
          "text": [
            "Epoch 1/10\n",
            "60/60 [==============================] - 94s 2s/step - loss: 10.2193 - mean_absolute_error: 10.2193 - val_loss: 9.4615 - val_mean_absolute_error: 9.4615\n",
            "Epoch 2/10\n",
            "60/60 [==============================] - 88s 1s/step - loss: 6.9609 - mean_absolute_error: 6.9609 - val_loss: 8.2231 - val_mean_absolute_error: 8.2231\n",
            "Epoch 3/10\n",
            "60/60 [==============================] - 90s 2s/step - loss: 6.6038 - mean_absolute_error: 6.6038 - val_loss: 9.6632 - val_mean_absolute_error: 9.6632\n",
            "Epoch 4/10\n",
            "60/60 [==============================] - 91s 2s/step - loss: 6.4754 - mean_absolute_error: 6.4754 - val_loss: 8.6739 - val_mean_absolute_error: 8.6739\n",
            "Epoch 5/10\n",
            "60/60 [==============================] - 90s 1s/step - loss: 6.2125 - mean_absolute_error: 6.2125 - val_loss: 8.0155 - val_mean_absolute_error: 8.0155\n",
            "Epoch 6/10\n",
            "60/60 [==============================] - 90s 2s/step - loss: 6.2973 - mean_absolute_error: 6.2973 - val_loss: 9.7483 - val_mean_absolute_error: 9.7483\n",
            "Epoch 7/10\n",
            "60/60 [==============================] - 90s 1s/step - loss: 6.2274 - mean_absolute_error: 6.2274 - val_loss: 7.3334 - val_mean_absolute_error: 7.3334\n",
            "Epoch 8/10\n",
            "60/60 [==============================] - 90s 1s/step - loss: 5.9670 - mean_absolute_error: 5.9670 - val_loss: 7.1064 - val_mean_absolute_error: 7.1064\n",
            "Epoch 9/10\n",
            "60/60 [==============================] - 89s 1s/step - loss: 5.8566 - mean_absolute_error: 5.8566 - val_loss: 7.7930 - val_mean_absolute_error: 7.7930\n",
            "Epoch 10/10\n",
            "60/60 [==============================] - 89s 1s/step - loss: 5.8664 - mean_absolute_error: 5.8664 - val_loss: 6.2885 - val_mean_absolute_error: 6.2885\n"
          ]
        },
        {
          "data": {
            "text/plain": [
              "<keras.callbacks.History at 0x7f99f8979f10>"
            ]
          },
          "execution_count": 38,
          "metadata": {},
          "output_type": "execute_result"
        }
      ],
      "source": [
        "model.fit(X_train, y_train, epochs=10, validation_data=(X_test, y_test), batch_size=32)"
      ]
    },
    {
      "cell_type": "markdown",
      "metadata": {
        "id": "gLyPEMrs4FQJ"
      },
      "source": [
        "MODEL (MOBILENETV2)"
      ]
    },
    {
      "cell_type": "code",
      "execution_count": null,
      "metadata": {
        "colab": {
          "base_uri": "https://localhost:8080/"
        },
        "id": "t1Et1oN14IW2",
        "outputId": "af6cf14d-97f6-4f06-a3e7-1d7ec623906d"
      },
      "outputs": [
        {
          "name": "stdout",
          "output_type": "stream",
          "text": [
            "Downloading data from https://storage.googleapis.com/tensorflow/keras-applications/mobilenet_v2/mobilenet_v2_weights_tf_dim_ordering_tf_kernels_1.0_160_no_top.h5\n",
            "9406464/9406464 [==============================] - 0s 0us/step\n",
            "Model: \"model\"\n",
            "_________________________________________________________________\n",
            " Layer (type)                Output Shape              Param #   \n",
            "=================================================================\n",
            " input_2 (InputLayer)        [(None, 160, 160, 3)]     0         \n",
            "                                                                 \n",
            " tf.math.truediv (TFOpLambda  (None, 160, 160, 3)      0         \n",
            " )                                                               \n",
            "                                                                 \n",
            " tf.math.subtract (TFOpLambd  (None, 160, 160, 3)      0         \n",
            " a)                                                              \n",
            "                                                                 \n",
            " mobilenetv2_1.00_160 (Funct  (None, 5, 5, 1280)       2257984   \n",
            " ional)                                                          \n",
            "                                                                 \n",
            " global_average_pooling2d (G  (None, 1280)             0         \n",
            " lobalAveragePooling2D)                                          \n",
            "                                                                 \n",
            " dropout (Dropout)           (None, 1280)              0         \n",
            "                                                                 \n",
            " dense (Dense)               (None, 6)                 7686      \n",
            "                                                                 \n",
            "=================================================================\n",
            "Total params: 2,265,670\n",
            "Trainable params: 2,228,198\n",
            "Non-trainable params: 37,472\n",
            "_________________________________________________________________\n"
          ]
        }
      ],
      "source": [
        "MobileNetV2 = tf.keras.applications.MobileNetV2(input_shape=(160,160,3), include_top=False, weights='imagenet')\n",
        "MobileNetV2.trainable = True\n",
        "\n",
        "# Set untrainable layers (layer 1-60 from 154)\n",
        "for layer in MobileNetV2.layers[:10]:\n",
        "  layer.trainable = False\n",
        "\n",
        "inputs = tf.keras.Input(shape=(160, 160, 3))\n",
        "x = tf.keras.applications.mobilenet_v2.preprocess_input(inputs)\n",
        "x = MobileNetV2(x, training=True)\n",
        "x = tf.keras.layers.GlobalAveragePooling2D()(x)\n",
        "x = tf.keras.layers.Dropout(0.4)(x)\n",
        "outputs = tf.keras.layers.Dense(6, activation='relu')(x)\n",
        "# outputs = tf.keras.layers.Dense(6, activation='softmax')(x)\n",
        "\n",
        "model = tf.keras.Model(inputs, outputs)\n",
        "\n",
        "# Optimize model\n",
        "opt = tf.keras.optimizers.Adam(learning_rate=0.001)\n",
        "model.compile(optimizer=opt,\n",
        "                loss=\"mean_absolute_error\",metrics=['mean_absolute_error'])\n",
        "\n",
        "model.summary()"
      ]
    },
    {
      "cell_type": "code",
      "execution_count": null,
      "metadata": {
        "colab": {
          "base_uri": "https://localhost:8080/"
        },
        "id": "DknNpZwo4toq",
        "outputId": "2277b928-63ce-49fe-a85f-687be19e0249"
      },
      "outputs": [
        {
          "name": "stdout",
          "output_type": "stream",
          "text": [
            "Epoch 1/10\n",
            "60/60 [==============================] - 20s 119ms/step - loss: 10.9424 - mean_absolute_error: 10.9424 - val_loss: 5.9198 - val_mean_absolute_error: 5.9198\n",
            "Epoch 2/10\n",
            "60/60 [==============================] - 5s 85ms/step - loss: 3.7903 - mean_absolute_error: 3.7903 - val_loss: 2.6869 - val_mean_absolute_error: 2.6869\n",
            "Epoch 3/10\n",
            "60/60 [==============================] - 5s 86ms/step - loss: 2.7341 - mean_absolute_error: 2.7341 - val_loss: 2.4995 - val_mean_absolute_error: 2.4995\n",
            "Epoch 4/10\n",
            "60/60 [==============================] - 5s 86ms/step - loss: 2.5005 - mean_absolute_error: 2.5005 - val_loss: 2.4970 - val_mean_absolute_error: 2.4970\n",
            "Epoch 5/10\n",
            "60/60 [==============================] - 5s 86ms/step - loss: 2.4399 - mean_absolute_error: 2.4399 - val_loss: 2.3555 - val_mean_absolute_error: 2.3555\n",
            "Epoch 6/10\n",
            "60/60 [==============================] - 5s 86ms/step - loss: 2.3309 - mean_absolute_error: 2.3309 - val_loss: 2.3987 - val_mean_absolute_error: 2.3987\n",
            "Epoch 7/10\n",
            "60/60 [==============================] - 5s 87ms/step - loss: 2.2144 - mean_absolute_error: 2.2144 - val_loss: 2.1686 - val_mean_absolute_error: 2.1686\n",
            "Epoch 8/10\n",
            "60/60 [==============================] - 5s 85ms/step - loss: 2.1309 - mean_absolute_error: 2.1309 - val_loss: 2.1995 - val_mean_absolute_error: 2.1995\n",
            "Epoch 9/10\n",
            "60/60 [==============================] - 5s 88ms/step - loss: 2.0957 - mean_absolute_error: 2.0957 - val_loss: 1.9475 - val_mean_absolute_error: 1.9475\n",
            "Epoch 10/10\n",
            "60/60 [==============================] - 5s 87ms/step - loss: 1.9081 - mean_absolute_error: 1.9081 - val_loss: 1.9469 - val_mean_absolute_error: 1.9469\n"
          ]
        }
      ],
      "source": [
        "epoch = 10\n",
        "es = EarlyStopping(monitor='val_loss', mode='min', restore_best_weights=True, patience=8)\n",
        "history = model.fit(\n",
        "      X_train, y_train,\n",
        "      epochs=epoch,\n",
        "      validation_data=(X_test, y_test),\n",
        "      callbacks=es)\n",
        "model.save('MobileNetV2_Relu.h5')"
      ]
    },
    {
      "cell_type": "markdown",
      "metadata": {
        "id": "XTXzPd76QA8S"
      },
      "source": [
        "TESTING"
      ]
    },
    {
      "cell_type": "code",
      "execution_count": null,
      "metadata": {
        "id": "2g5-Dq9NQB4a"
      },
      "outputs": [],
      "source": [
        "img = load_img('26_B1.JPG',target_size=(160,160,3))\n",
        "img = img_to_array(img)\n",
        "img = img/255"
      ]
    },
    {
      "cell_type": "code",
      "execution_count": null,
      "metadata": {
        "colab": {
          "base_uri": "https://localhost:8080/"
        },
        "id": "RDl9NtC1sE4I",
        "outputId": "c55da3d9-24a4-4292-c106-b4a62e8af332"
      },
      "outputs": [
        {
          "name": "stdout",
          "output_type": "stream",
          "text": [
            "1/1 [==============================] - 0s 21ms/step\n",
            "Composition :\n",
            "Green algae :  88.680084\n",
            "Blue Green algae :  4.909602\n",
            "Chrysophyta algae :  1.8692467\n",
            "Euglenophyta :  0.0\n",
            "Dinoflagellata :  0.0\n",
            "Protozoa :  0.0\n",
            "Sum of the probabilites:  95.45893\n",
            "\n",
            "\n",
            "Composition (after make the sum to 100):\n",
            "Green algae :  0.9289868\n",
            "Blue Green algae :  0.051431563\n",
            "Chrysophyta algae :  0.019581685\n",
            "Euglenophyta :  0.0\n",
            "Dinoflagellata :  0.0\n",
            "Protozoa :  0.0\n",
            "Sum of the probabilites:  100\n"
          ]
        }
      ],
      "source": [
        "prob_result = model.predict(img.reshape(1,160,160,3))\n",
        "\n",
        "# Untuk softmax\n",
        "# prob_result = softmax(proba) \n",
        "sum = np.sum(prob_result)\n",
        "\n",
        "print(\"Composition :\")\n",
        "print(\"Green algae : \", prob_result[0][0])\n",
        "print(\"Blue Green algae : \", prob_result[0][1])\n",
        "print(\"Chrysophyta algae : \", prob_result[0][2])\n",
        "print(\"Euglenophyta : \", prob_result[0][3])\n",
        "print(\"Dinoflagellata : \", prob_result[0][4])\n",
        "print(\"Protozoa : \", prob_result[0][5])\n",
        "print(\"Sum of the probabilites: \", sum)\n",
        "print(\"\\n\")\n",
        "\n",
        "print(\"Composition (after make the sum to 100):\")\n",
        "print(\"Green algae : \", prob_result[0][0]/sum)\n",
        "print(\"Blue Green algae : \", prob_result[0][1]/sum)\n",
        "print(\"Chrysophyta algae : \", prob_result[0][2]/sum)\n",
        "print(\"Euglenophyta : \", prob_result[0][3]/sum)\n",
        "print(\"Dinoflagellata : \", prob_result[0][4]/sum)\n",
        "print(\"Protozoa : \", prob_result[0][5]/sum)\n",
        "print(\"Sum of the probabilites: \", 100)"
      ]
    },
    {
      "cell_type": "code",
      "execution_count": null,
      "metadata": {
        "colab": {
          "base_uri": "https://localhost:8080/",
          "height": 295
        },
        "id": "S4pwoncUdK8p",
        "outputId": "e0efe0d1-3f6f-4696-d978-aad3becaa74c"
      },
      "outputs": [
        {
          "data": {
            "image/png": "[encoded data removed]",
            "text/plain": [
              "<Figure size 432x288 with 1 Axes>"
            ]
          },
          "metadata": {
            "needs_background": "light"
          },
          "output_type": "display_data"
        }
      ],
      "source": [
        "plt.plot(history.history['mean_absolute_error'])\n",
        "plt.plot(history.history['val_mean_absolute_error'])\n",
        "plt.xticks(np.arange(0, epoch+1, 2))\n",
        "plt.title(\"Model Accuration\")\n",
        "plt.xlabel('epoch')\n",
        "plt.ylabel('error (%)')\n",
        "plt.legend(['train', 'validation'], loc='upper right')\n",
        "plt.show()"
      ]
    }
  ],
  "metadata": {
    "accelerator": "GPU",
    "colab": {
      "collapsed_sections": [],
      "provenance": []
    },
    "kernelspec": {
      "display_name": "Python 3.8.10 64-bit (microsoft store)",
      "language": "python",
      "name": "python3"
    },
    "language_info": {
      "name": "python",
      "version": "3.8.10"
    },
    "vscode": {
      "interpreter": {
        "hash": "d7002590c7e63acf59ca7075b84349f686594fef5dc540aa6e798cd3ea0868c0"
      }
    }
  },
  "nbformat": 4,
  "nbformat_minor": 0
}
